{
 "cells": [
  {
   "cell_type": "markdown",
   "metadata": {},
   "source": [
    "# Introduction to Data Science\n",
    "## Homework 3"
   ]
  },
  {
   "cell_type": "markdown",
   "metadata": {},
   "source": [
    "Student Name: Zhengyuan Ding\n",
    "\n",
    "Student Netid: zd415\n",
    "***"
   ]
  },
  {
   "cell_type": "markdown",
   "metadata": {},
   "source": [
    "### Part 1 (5 Points)\n",
    "Assume that $X$ and $Y$ are discrete random variables. The formulas for Mutual Information, Entropy and Conditional Entropy are given by:\n",
    "\n",
    "$$\\text{Mutual Information} = \\sum_{y \\in Y} \\sum_{x \\in X} p(x, y) \\cdot log\\frac{p(x, y)}{p(x)p(y)}$$\n",
    "\n",
    "$$\\text{Entropy} = H(Y) = -\\sum_{y \\in Y} p(y) \\cdot log(p(y))$$\n",
    "\n",
    "$$\\text{Conditional Entropy} = H(Y \\mid X) = \\sum_{x \\in X} p(x) \\cdot H(Y \\mid X = x)$$\n",
    "\n",
    "Show mathematically that $\\text{Mutual Information} = \\text{Information Gain}$, where $\\text{Information Gain} = H(Y) – H(Y \\mid X)$. Give the derivation below (note, this can be done using Latek math notation, which renders nicely. See above. Feel free to do it by hand and submit an image of your proof)."
   ]
  },
  {
   "cell_type": "markdown",
   "metadata": {},
   "source": [
    "$\\begin{align*}\n",
    "\\text{Information Gain} &= H(Y)-H(Y\\mid X)\\\\\n",
    "&= -\\sum_{y \\in Y} p(y) \\cdot log(p(y)) - \\sum_{x \\in X} p(x) \\cdot H(Y \\mid X = x)\\\\\n",
    "&= -\\sum_{y \\in Y} p(y) \\cdot log(p(y)) - \\sum_{x \\in X} p(x) \\cdot [-\\sum_{y \\in Y} p(y \\mid x)log(p(y \\mid x)) ]\\\\\n",
    "&=  -\\sum_{y \\in Y} p(y) \\cdot log(p(y))+\\sum_{x \\in X} p(x) \\cdot \\sum_{y \\in Y} \\frac{p(x,y)}{p(x)}log(\\frac{p(x,y)}{p(x)}) \\\\\n",
    "&= -\\sum_{y \\in Y}\\sum_{X \\in x}p(y \\mid x)p(x)log(p(y))+\\sum_{x \\in X}  \\sum_{y \\in Y}p(x,y)log(\\frac{p(x,y)}{p(x)})\\\\\n",
    "&=-\\sum_{y \\in Y}\\sum_{X \\in x}p(x,y)log(p(y))+\\sum_{x \\in X}  \\sum_{y \\in Y}p(x,y)log(\\frac{p(x,y)}{p(x)})\\\\\n",
    "&= \\sum_{y \\in Y}  \\sum_{x \\in X}p(x,y)[log(\\frac{p(x,y)}{p(x)})-log(p(y))]\\\\\n",
    "&=\\sum_{y \\in Y}  \\sum_{x \\in X}p(x,y)log(\\frac{p(x,y)}{p(x)p(y)})\\\\\n",
    "&= \\text{Mutual Information}\n",
    "\\end{align*}\n",
    "$"
   ]
  },
  {
   "cell_type": "markdown",
   "metadata": {},
   "source": [
    "### Part 2 - Preparing a Training Set and Training a Decision Tree (10 Points)\n",
    "This is a hands-on task where we build a predictive model using Decision Trees discussed in class. For this part, we will be using the data in `cell2cell_data.csv`.\n",
    "\n",
    "These historical data consist of 39,859 customers: 19,901 customers that churned (i.e., left the company) and 19,958 that did not churn (see the `\"churndep\"` variable). Here are the data set's 11 possible predictor variables for churning behavior: \n",
    "\n",
    "```\n",
    "Pos.  Var. Name  Var. Description\n",
    "----- ---------- --------------------------------------------------------------\n",
    "1     revenue    Mean monthly revenue in dollars\n",
    "2     outcalls   Mean number of outbound voice calls\n",
    "3     incalls    Mean number of inbound voice calls\n",
    "4     months     Months in Service\n",
    "5     eqpdays    Number of days the customer has had his/her current equipment\n",
    "6     webcap     Handset is web capable\n",
    "7     marryyes   Married (1=Yes; 0=No)\n",
    "8     travel     Has traveled to non-US country (1=Yes; 0=No)\n",
    "9     pcown      Owns a personal computer (1=Yes; 0=No)\n",
    "10    creditcd   Possesses a credit card (1=Yes; 0=No)\n",
    "11    retcalls   Number of calls previously made to retention team\n",
    "```\n",
    "\n",
    "The 12th column, the dependent variable `\"churndep\"`, equals 1 if the customer churned, and 0 otherwise. "
   ]
  },
  {
   "cell_type": "markdown",
   "metadata": {},
   "source": [
    "1\\. Load the data and prepare it for modeling. Note that the features are already processed for you, so the only thing needed here is split the data into training and testing. Use pandas to create two data frames: train_df and test_df, where train_df has 80% of the data chosen uniformly at random without replacement (test_df should have the other 20%). Also, make sure to write your own code to do the splits. You may use any random() function numpy but DO NOT use the data splitting functions from Sklearn."
   ]
  },
  {
   "cell_type": "code",
   "execution_count": 1,
   "metadata": {},
   "outputs": [
    {
     "data": {
      "text/html": [
       "<div>\n",
       "<style scoped>\n",
       "    .dataframe tbody tr th:only-of-type {\n",
       "        vertical-align: middle;\n",
       "    }\n",
       "\n",
       "    .dataframe tbody tr th {\n",
       "        vertical-align: top;\n",
       "    }\n",
       "\n",
       "    .dataframe thead th {\n",
       "        text-align: right;\n",
       "    }\n",
       "</style>\n",
       "<table border=\"1\" class=\"dataframe\">\n",
       "  <thead>\n",
       "    <tr style=\"text-align: right;\">\n",
       "      <th></th>\n",
       "      <th>revenue</th>\n",
       "      <th>outcalls</th>\n",
       "      <th>incalls</th>\n",
       "      <th>months</th>\n",
       "      <th>eqpdays</th>\n",
       "      <th>webcap</th>\n",
       "      <th>marryyes</th>\n",
       "      <th>travel</th>\n",
       "      <th>pcown</th>\n",
       "      <th>creditcd</th>\n",
       "      <th>retcalls</th>\n",
       "      <th>churndep</th>\n",
       "    </tr>\n",
       "  </thead>\n",
       "  <tbody>\n",
       "    <tr>\n",
       "      <th>0</th>\n",
       "      <td>48.82</td>\n",
       "      <td>10.00</td>\n",
       "      <td>3.0</td>\n",
       "      <td>26</td>\n",
       "      <td>780</td>\n",
       "      <td>0</td>\n",
       "      <td>0</td>\n",
       "      <td>0</td>\n",
       "      <td>0</td>\n",
       "      <td>1</td>\n",
       "      <td>4</td>\n",
       "      <td>1</td>\n",
       "    </tr>\n",
       "    <tr>\n",
       "      <th>1</th>\n",
       "      <td>83.53</td>\n",
       "      <td>20.00</td>\n",
       "      <td>1.0</td>\n",
       "      <td>31</td>\n",
       "      <td>745</td>\n",
       "      <td>1</td>\n",
       "      <td>0</td>\n",
       "      <td>0</td>\n",
       "      <td>0</td>\n",
       "      <td>0</td>\n",
       "      <td>4</td>\n",
       "      <td>1</td>\n",
       "    </tr>\n",
       "    <tr>\n",
       "      <th>2</th>\n",
       "      <td>29.99</td>\n",
       "      <td>0.00</td>\n",
       "      <td>0.0</td>\n",
       "      <td>52</td>\n",
       "      <td>1441</td>\n",
       "      <td>0</td>\n",
       "      <td>0</td>\n",
       "      <td>0</td>\n",
       "      <td>1</td>\n",
       "      <td>1</td>\n",
       "      <td>3</td>\n",
       "      <td>1</td>\n",
       "    </tr>\n",
       "    <tr>\n",
       "      <th>3</th>\n",
       "      <td>51.42</td>\n",
       "      <td>0.00</td>\n",
       "      <td>0.0</td>\n",
       "      <td>36</td>\n",
       "      <td>59</td>\n",
       "      <td>1</td>\n",
       "      <td>0</td>\n",
       "      <td>0</td>\n",
       "      <td>0</td>\n",
       "      <td>0</td>\n",
       "      <td>4</td>\n",
       "      <td>1</td>\n",
       "    </tr>\n",
       "    <tr>\n",
       "      <th>4</th>\n",
       "      <td>37.75</td>\n",
       "      <td>2.67</td>\n",
       "      <td>0.0</td>\n",
       "      <td>25</td>\n",
       "      <td>572</td>\n",
       "      <td>0</td>\n",
       "      <td>0</td>\n",
       "      <td>0</td>\n",
       "      <td>1</td>\n",
       "      <td>1</td>\n",
       "      <td>3</td>\n",
       "      <td>1</td>\n",
       "    </tr>\n",
       "  </tbody>\n",
       "</table>\n",
       "</div>"
      ],
      "text/plain": [
       "   revenue  outcalls  incalls  months  eqpdays  webcap  marryyes  travel  \\\n",
       "0    48.82     10.00      3.0      26      780       0         0       0   \n",
       "1    83.53     20.00      1.0      31      745       1         0       0   \n",
       "2    29.99      0.00      0.0      52     1441       0         0       0   \n",
       "3    51.42      0.00      0.0      36       59       1         0       0   \n",
       "4    37.75      2.67      0.0      25      572       0         0       0   \n",
       "\n",
       "   pcown  creditcd  retcalls  churndep  \n",
       "0      0         1         4         1  \n",
       "1      0         0         4         1  \n",
       "2      1         1         3         1  \n",
       "3      0         0         4         1  \n",
       "4      1         1         3         1  "
      ]
     },
     "execution_count": 1,
     "metadata": {},
     "output_type": "execute_result"
    }
   ],
   "source": [
    "import pandas as pd\n",
    "import numpy as np\n",
    "\n",
    "#load data and add the header names\n",
    "data = pd.read_csv('cell2cell_data.csv',header = None,\n",
    "                  names=['revenue','outcalls','incalls','months','eqpdays','webcap',\n",
    "                          'marryyes','travel','pcown','creditcd','retcalls','churndep'] )\n",
    "data.head()"
   ]
  },
  {
   "cell_type": "code",
   "execution_count": 2,
   "metadata": {},
   "outputs": [
    {
     "name": "stdout",
     "output_type": "stream",
     "text": [
      "train size:31887 \n",
      "test size: 7972\n"
     ]
    }
   ],
   "source": [
    "indices = list(range(data.shape[0]))\n",
    "\n",
    "#set training set size as 80%\n",
    "train_size = int(0.8*data.shape[0])\n",
    "\n",
    "#shuffle dataset indices for uniform sampling\n",
    "np.random.shuffle(indices)\n",
    "\n",
    "#extract training and test set using indices\n",
    "train_idx, test_idx= indices[:train_size],indices[train_size:]\n",
    "train_df, test_df = data.iloc[train_idx],data.iloc[test_idx]\n",
    "\n",
    "#print the size of the training and test set\n",
    "print('train size:{} \\ntest size: {}'.format(len(train_df), len(test_df)))"
   ]
  },
  {
   "cell_type": "markdown",
   "metadata": {},
   "source": [
    "2\\. If we had to, how would we prove to ourselves or a colleague that our data was indeed randomly sampled on X? And by prove, I mean empirically, not just showing this person our code. Don't actually do the work, just describe in your own words a test you could here. Hint: think about this in terms of selection bias and use notes from our 2nd lecture."
   ]
  },
  {
   "cell_type": "markdown",
   "metadata": {},
   "source": [
    "#### Answer:\n",
    "If it's random sampling, then the probability of a feature variable will not differ significantly given it's in the training set or the whole dataset, that is:\n",
    "$$P(\\text{X}_i \\mid \\text{Training set})= P(\\text{X}_i)$$\n",
    "$$P(\\text{X}_i \\mid \\text{Test set})= P(\\text{X}_i)$$\n",
    "also the expectation should not differ significantly as well:\n",
    "$$E(\\text{X}_i \\mid \\text{Training set})= E(\\text{X}_i)$$\n",
    "$$E(\\text{X}_i \\mid \\text{Test set})= E(\\text{X}_i)$$\n",
    "Therefore, we could do a hypothesis test on whether the difference between the mean of each variable given in the training set and their original mean in the inintial dataset is siginificant or not. The same process also applies to the test set sampling to compare the mean difference. If the difference is not significant, say within the confidence interval of 95%, then we can say that the training set is independent of feature $X_i$. Thus we can prove that the code we did above is uniform random sampling. "
   ]
  },
  {
   "cell_type": "markdown",
   "metadata": {},
   "source": [
    "3\\. Now build and train a decision tree classifier using `DecisionTreeClassifier()` [(manual page)](http://scikit-learn.org/stable/modules/generated/sklearn.tree.DecisionTreeClassifier.html) on train_df to predict the `\"churndep\"` target variable. Make sure to use `criterion='entropy'` when instantiating an instance of `DecisionTreeClassifier()`. For all other settings you should use all of the default options."
   ]
  },
  {
   "cell_type": "code",
   "execution_count": 3,
   "metadata": {},
   "outputs": [
    {
     "data": {
      "text/plain": [
       "DecisionTreeClassifier(class_weight=None, criterion='entropy', max_depth=None,\n",
       "            max_features=None, max_leaf_nodes=None,\n",
       "            min_impurity_decrease=0.0, min_impurity_split=None,\n",
       "            min_samples_leaf=1, min_samples_split=2,\n",
       "            min_weight_fraction_leaf=0.0, presort=False, random_state=None,\n",
       "            splitter='best')"
      ]
     },
     "execution_count": 3,
     "metadata": {},
     "output_type": "execute_result"
    }
   ],
   "source": [
    "from sklearn.tree import DecisionTreeClassifier\n",
    "Y = train_df['churndep']\n",
    "X = train_df.drop('churndep',axis = 1)\n",
    "dt = DecisionTreeClassifier(criterion='entropy')\n",
    "dt.fit(X,Y)"
   ]
  },
  {
   "cell_type": "markdown",
   "metadata": {},
   "source": [
    "4\\. Using the resulting model from 2.3, show a bar plot of feature names and their feature importance (hint: check the attributes of the `DecisionTreeClassifier()` object directly in IPython or check the manual!). Make sure the bar plot is sorted by increasing feature importance values."
   ]
  },
  {
   "cell_type": "code",
   "execution_count": 4,
   "metadata": {},
   "outputs": [],
   "source": [
    "importance_lst = list(zip(dt.feature_importances_,X.columns.values))\n",
    "importance_lst.sort(key = lambda x: x[0])\n",
    "importances, features = zip(*importance_lst)"
   ]
  },
  {
   "cell_type": "code",
   "execution_count": 5,
   "metadata": {},
   "outputs": [
    {
     "data": {
      "text/plain": [
       "Text(0,0.5,'Normoalized Gini Importance')"
      ]
     },
     "execution_count": 5,
     "metadata": {},
     "output_type": "execute_result"
    },
    {
     "data": {
      "image/png": "[encoded data removed]",
      "text/plain": [
       "<Figure size 432x288 with 1 Axes>"
      ]
     },
     "metadata": {},
     "output_type": "display_data"
    }
   ],
   "source": [
    "import matplotlib.pyplot as plt\n",
    "%matplotlib inline\n",
    "\n",
    "fig, ax = plt.subplots()\n",
    "width = 0.4\n",
    "ax.bar(np.arange(11), importances, width, color = 'blue')\n",
    "ax.set_xticks(np.arange(len(importances)))\n",
    "ax.set_xticklabels(features, rotation = 90)\n",
    "plt.title('Feature Importance from Decision Tree')\n",
    "ax.set_ylabel('Normoalized Gini Importance')"
   ]
  },
  {
   "cell_type": "markdown",
   "metadata": {},
   "source": [
    "5\\. Is the relationship between the top 3 most important features (as measured here) negative or positive? If your marketing director asked you to explain the top 3 drivers of churn, how would you interpret the relationship between these 3 features and the churn outcome? What \"real-life\" connection can you draw between each variable and churn? Make sure to state your answer, and not just show code."
   ]
  },
  {
   "cell_type": "code",
   "execution_count": 6,
   "metadata": {},
   "outputs": [
    {
     "data": {
      "text/html": [
       "<div>\n",
       "<style scoped>\n",
       "    .dataframe tbody tr th:only-of-type {\n",
       "        vertical-align: middle;\n",
       "    }\n",
       "\n",
       "    .dataframe tbody tr th {\n",
       "        vertical-align: top;\n",
       "    }\n",
       "\n",
       "    .dataframe thead th {\n",
       "        text-align: right;\n",
       "    }\n",
       "</style>\n",
       "<table border=\"1\" class=\"dataframe\">\n",
       "  <thead>\n",
       "    <tr style=\"text-align: right;\">\n",
       "      <th></th>\n",
       "      <th>outcalls</th>\n",
       "      <th>eqpdays</th>\n",
       "      <th>revenue</th>\n",
       "      <th>churndep</th>\n",
       "    </tr>\n",
       "  </thead>\n",
       "  <tbody>\n",
       "    <tr>\n",
       "      <th>outcalls</th>\n",
       "      <td>1.000000</td>\n",
       "      <td>-0.244255</td>\n",
       "      <td>0.502784</td>\n",
       "      <td>-0.037562</td>\n",
       "    </tr>\n",
       "    <tr>\n",
       "      <th>eqpdays</th>\n",
       "      <td>-0.244255</td>\n",
       "      <td>1.000000</td>\n",
       "      <td>-0.223031</td>\n",
       "      <td>0.113271</td>\n",
       "    </tr>\n",
       "    <tr>\n",
       "      <th>revenue</th>\n",
       "      <td>0.502784</td>\n",
       "      <td>-0.223031</td>\n",
       "      <td>1.000000</td>\n",
       "      <td>-0.014134</td>\n",
       "    </tr>\n",
       "    <tr>\n",
       "      <th>churndep</th>\n",
       "      <td>-0.037562</td>\n",
       "      <td>0.113271</td>\n",
       "      <td>-0.014134</td>\n",
       "      <td>1.000000</td>\n",
       "    </tr>\n",
       "  </tbody>\n",
       "</table>\n",
       "</div>"
      ],
      "text/plain": [
       "          outcalls   eqpdays   revenue  churndep\n",
       "outcalls  1.000000 -0.244255  0.502784 -0.037562\n",
       "eqpdays  -0.244255  1.000000 -0.223031  0.113271\n",
       "revenue   0.502784 -0.223031  1.000000 -0.014134\n",
       "churndep -0.037562  0.113271 -0.014134  1.000000"
      ]
     },
     "execution_count": 6,
     "metadata": {},
     "output_type": "execute_result"
    }
   ],
   "source": [
    "train_df[['outcalls','eqpdays','revenue','churndep']].corr()"
   ]
  },
  {
   "cell_type": "markdown",
   "metadata": {},
   "source": [
    "####  Answer:\n",
    "The top 3 most important features are revenue, eqpdays and outcalls. The correlations between the three features are shown above in the table. \n",
    "\n",
    "* relationship between the top3 variables\n",
    "\n",
    "outcalls and eqpdays are negatively related, which means more outbound calls are related to shorter days the customer has had his/her equipment. People who have more outbound calls are likely to care less about their phone expenditures, since the cost of outbound calls are relatively high. Therefore, they might spend money to change their equipment more frequently. \n",
    "\n",
    "outcalls and revenue are positively correlated in that when one has higher revenue, he/she cares less about the higher cost for outbound calls. Therefore, the outcalls will be higher when revenue is higher. Another explaination would be that those people with higher revenue tends to have more opportunities to travel outbound, and that results in a higher number of outcalls.\n",
    "\n",
    "revenue and eqpdays are negatively correlated in the sense that wealthier people can afford buying new equipments, so they change their equipments more frequently. Thus, high revenue correlates with shorter number of days the customer own his/her current equipment.\n",
    "\n",
    "* relationship between the top3 variables and the churn outcome\n",
    "\n",
    "outcalls and revenue are both negatively correlated with churndep, which means that more outcalls or higher revenue are related to lower churn probability. This makes sense in our real life. When people have higher revenue, they dont' care about price much. They don't usually compare with and switch to other cell phone services in order to get a cheaper plan. Instead, they will stay in the plan regardless of discounts from other providers. In terms of outcalls, people who have more outbound calls tend not to switch plans since it's complicated to study and learn about the new policies of the outbound call from another provider. They get used to and are familiar with the outbound-call policies of the current plan so the possibility to churn is likely to be low.\n",
    "\n",
    "eqpdays correlates with churndep positively. This means if people stay with his/her current equipment for longer period, their probability to churn will be high. For example, a service plan is bound to an equipment from purchase and the phone is only unlocked after a certain period. Therefore, when that locked period expires, people have the choice to switch their phone providers. In this case, the more days owning the equipment, the possibility of churn will be higher. "
   ]
  },
  {
   "cell_type": "markdown",
   "metadata": {},
   "source": [
    "6\\. Using the classifier built in 2.3, try predicting \"churndep\" on both the train_df and test_df data sets. What is the accuracy on each? What is your explanation on the difference (or lackthereof) between the two accuracies?"
   ]
  },
  {
   "cell_type": "code",
   "execution_count": 7,
   "metadata": {},
   "outputs": [
    {
     "name": "stdout",
     "output_type": "stream",
     "text": [
      "train accuracy:0.9998118355442657 \n",
      "test accuracy: 0.530356246864024\n"
     ]
    }
   ],
   "source": [
    "# Code here\n",
    "from sklearn.metrics import accuracy_score\n",
    "train_acc = dt.score(train_df.drop('churndep',axis = 1),train_df['churndep'])\n",
    "test_acc = dt.score(test_df.drop('churndep',axis = 1),test_df['churndep'])\n",
    "print('train accuracy:{} \\ntest accuracy: {}'.format(train_acc,test_acc))"
   ]
  },
  {
   "cell_type": "markdown",
   "metadata": {},
   "source": [
    "####  Answer:\n",
    "There is a huge gap between training and test accuracy. The training accuracy is very high close to 100% while the test accuracy is only about 53%. It indicates a possilbe overfitting, that is, the decision tree model is getting too complex and is memorizing the training set. Thus when applying the model to the unknown data from test set, it's using the training set data pattern that it has memorized instead of generalizing the pattern."
   ]
  },
  {
   "cell_type": "markdown",
   "metadata": {},
   "source": [
    "### Part 3 - Finding a Good Decision Tree (10 Points)\n",
    "The default options for your decision tree may not be optimal. We need to analyze whether tuning the parameters can improve the accuracy of the classifier.  For the following options `min_samples_split` and `min_samples_leaf`:"
   ]
  },
  {
   "cell_type": "markdown",
   "metadata": {},
   "source": [
    "1\\. Generate a list of 10 values of each for the parameters mim_samples_split and min_samples_leaf. "
   ]
  },
  {
   "cell_type": "code",
   "execution_count": 8,
   "metadata": {},
   "outputs": [],
   "source": [
    "min_samples_split_values = np.linspace(0.01, 0.275, 10)\n",
    "min_samples_leaf_values = np.linspace(0.01, 0.2, 10)"
   ]
  },
  {
   "cell_type": "code",
   "execution_count": 9,
   "metadata": {},
   "outputs": [
    {
     "name": "stdout",
     "output_type": "stream",
     "text": [
      "[0.01       0.03944444 0.06888889 0.09833333 0.12777778 0.15722222\n",
      " 0.18666667 0.21611111 0.24555556 0.275     ]\n",
      "[0.01       0.03111111 0.05222222 0.07333333 0.09444444 0.11555556\n",
      " 0.13666667 0.15777778 0.17888889 0.2       ]\n"
     ]
    }
   ],
   "source": [
    "print(min_samples_split_values)\n",
    "print(min_samples_leaf_values)"
   ]
  },
  {
   "cell_type": "markdown",
   "metadata": {},
   "source": [
    "2\\. Explain in words your reasoning for choosing the above ranges."
   ]
  },
  {
   "cell_type": "markdown",
   "metadata": {},
   "source": [
    "#### Answer:\n",
    "The min_sample_split represents the minimum number of samples required to split an internal node. The simplest dt model should just do one split of root node, that is 100% of all the samples. Therefore min_sample_split value should $\\in (0, 1]$. The same reasoning also applies to the min_sample_leaf values. Since it is the minimum number of samples required to be at a leaf node, the max of it will be 100%/2 = 50%. Therefore the min_samples_leaf value should $\\in (0,0.5]$ \n",
    "\n",
    "To prevent overfitting, the value should not be too small since the model will get too complicated as the tree grows. Also it should not be too big as the model will get too simple. So I firstly set both value in linspace(0.05, 0.5, 10). However, the trend of resulting test accuracy using min_samples_leaf values between 0.05 and 0.45 are too close (the line from 0.2 to 0.4 are even overlapping)， while there is a large gap between those lines and the one for 0.5. Thus I minimize the min_leaf range to linspace(0.01, 0.2,10) to make the accuracy variance larger.\n",
    "\n",
    "I apply the same reasoning in terms of the min_samples_split values. The trend of all values doesn't change after 25%, so I change the value range to linspace(0.01,0.275,10) to show more accuracy variance."
   ]
  },
  {
   "cell_type": "markdown",
   "metadata": {},
   "source": [
    "3\\. For each combination of values in 3.1 (there should be 100), build a new classifier and check the classifier's accuracy on the test data. Plot the test set accuracy for these options. Use the values of `min_samples_split` as the x-axis and generate a new series (line) for each of `min_samples_leaf`."
   ]
  },
  {
   "cell_type": "code",
   "execution_count": 10,
   "metadata": {},
   "outputs": [
    {
     "data": {
      "text/plain": [
       "<matplotlib.legend.Legend at 0x116ebc860>"
      ]
     },
     "execution_count": 10,
     "metadata": {},
     "output_type": "execute_result"
    },
    {
     "data": {
      "image/png": "[encoded data removed]",
      "text/plain": [
       "<Figure size 432x288 with 1 Axes>"
      ]
     },
     "metadata": {},
     "output_type": "display_data"
    }
   ],
   "source": [
    "import matplotlib.pyplot as plt\n",
    "%matplotlib inline\n",
    "\n",
    "#creat a list to store the test accuracy\n",
    "test_acc_hist = []\n",
    "\n",
    "#iterate through each combination of min_samples_leaf and min_samples_split\n",
    "for min_leaf in min_samples_leaf_values: \n",
    "    test_acc = []\n",
    "    for min_split in min_samples_split_values:\n",
    "        #build dt model\n",
    "        dt_tuning = DecisionTreeClassifier(criterion='entropy',\n",
    "                                           min_samples_split = min_split,\n",
    "                                           min_samples_leaf = min_leaf)\n",
    "        #fit the training data\n",
    "        dt_tuning.fit(train_df.drop('churndep', 1),train_df['churndep'])\n",
    "        #store the test accuracy\n",
    "        test_acc.append(dt_tuning.score(test_df.drop('churndep',1),\n",
    "                                                  test_df['churndep']))\n",
    "    test_acc_hist.append(test_acc)\n",
    "    \n",
    "    #plot a line for each min_samples_leaf value\n",
    "    plt.plot(min_samples_split_values,test_acc, \n",
    "             label= '{0:.3f} min_leaf'.format(min_leaf),\n",
    "             marker = 'o')\n",
    "\n",
    "plt.xlabel('min_sample_split values')\n",
    "plt.ylabel('test accuracy')\n",
    "plt.legend(loc = 'center', bbox_to_anchor = (0.5, -0.5), fancybox = True,\n",
    "           ncol = 5, prop = {'size':10})"
   ]
  },
  {
   "cell_type": "markdown",
   "metadata": {},
   "source": [
    "4\\. Which configuration returns the best accuracy? What is this accuracy? (Note, if you don't see much variation in the test set accuracy across values of min_samples_split or min_samples_leaf, try redoing the above steps with a different range of values), and reassess your answer in Q3.2."
   ]
  },
  {
   "cell_type": "markdown",
   "metadata": {},
   "source": [
    "#### Answer:\n",
    "The configuration that returns the best accuracy is the 6th value in min_samples_split_values and the first one in min_samples_leaf_values. That is:\n",
    "$$\\text{min_samples_split} = 15.72 \\% $$\n",
    "$$\\text{min_samples_leaf} = 1 \\% $$\n",
    "The best test accuracy resulting from the above configuration is $60.1 \\%$"
   ]
  },
  {
   "cell_type": "code",
   "execution_count": 11,
   "metadata": {},
   "outputs": [
    {
     "name": "stdout",
     "output_type": "stream",
     "text": [
      "index for min_leaf and min_split of best test accuracy: 0, 5\n",
      "Best test accuracy: 0.6013547415955846\n",
      "min_samples_split = 15.72%\n",
      "min_samples_leaf = 1.00%\n"
     ]
    }
   ],
   "source": [
    "#get the index of min_leaf and min_split\n",
    "leaf,split = np.unravel_index(np.asarray(test_acc_hist).argmax()\n",
    "                              , np.asarray(test_acc_hist).shape)\n",
    "print('index for min_leaf and min_split of best test accuracy: {}, {}'.format(leaf, split))\n",
    "print('Best test accuracy: {}'.format(test_acc_hist[leaf][split]))\n",
    "\n",
    "#show the value of selected min_samples_split and leaf values\n",
    "print('min_samples_split = {0:.2f}%'.format(min_samples_split_values[split]*100))\n",
    "print('min_samples_leaf = {0:.2f}%'.format(min_samples_leaf_values[leaf]*100))"
   ]
  },
  {
   "cell_type": "code",
   "execution_count": 13,
   "metadata": {},
   "outputs": [
    {
     "name": "stdout",
     "output_type": "stream",
     "text": [
      "test accuracy: 0.601\n"
     ]
    }
   ],
   "source": [
    "# Double check\n",
    "dt_final = DecisionTreeClassifier(criterion='entropy',\n",
    "                                           min_samples_split = min_samples_split_values[5],\n",
    "                                           min_samples_leaf = min_samples_leaf_values[0])\n",
    "dt_final.fit(train_df.drop('churndep', 1),train_df['churndep'])\n",
    "acc = dt_final.score(test_df.drop('churndep',1),test_df['churndep'])\n",
    "print('test accuracy: {0:.3f}'.format(acc))"
   ]
  },
  {
   "cell_type": "markdown",
   "metadata": {},
   "source": [
    "5\\. If you were working for a marketing department, how would you use your churn production model in a real business environment? Explain why churn prediction might be good for the business and how one might improve churn by using this model."
   ]
  },
  {
   "cell_type": "markdown",
   "metadata": {},
   "source": [
    "#### Answer:\n",
    "Customer churn is expensive to companies in the sence that attracting new customers is more expensive than retaining current ones and also losing customers decreases revenue. Therefore, preventing customer churn before their contracts expire is important and profitable for companies. The model for churn prediction in this case will help reduce loss if we take some actions on those who are very likely to churn.\n",
    "\n",
    "We can continuously collect the customer information on these 11 variables and use the model to get a churn prediction. If the model tells us that the customer is likely to churn , then the company can send him/her some promotions or discount to perhaps change his/her mind. Additionally, we could send some surveys to collect and analyze complaints or feedbacks from those who are predicted to churn. Then we can respond to their issues in time and improve our services. Taking actions like mentioned prior on customers who are likely to churn will hopefully increase the retention rate and thus prevent our revenue lost."
   ]
  },
  {
   "cell_type": "code",
   "execution_count": null,
   "metadata": {},
   "outputs": [],
   "source": []
  }
 ],
 "metadata": {
  "kernelspec": {
   "display_name": "Python 3",
   "language": "python",
   "name": "python3"
  },
  "language_info": {
   "codemirror_mode": {
    "name": "ipython",
    "version": 3
   },
   "file_extension": ".py",
   "mimetype": "text/x-python",
   "name": "python",
   "nbconvert_exporter": "python",
   "pygments_lexer": "ipython3",
   "version": "3.6.6"
  }
 },
 "nbformat": 4,
 "nbformat_minor": 1
}
