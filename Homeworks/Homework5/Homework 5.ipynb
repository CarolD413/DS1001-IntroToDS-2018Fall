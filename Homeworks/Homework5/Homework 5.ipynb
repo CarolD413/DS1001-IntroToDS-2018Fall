{
 "cells": [
  {
   "cell_type": "markdown",
   "metadata": {},
   "source": [
    "# Introduction to Data Science\n",
    "## Homework 5"
   ]
  },
  {
   "cell_type": "markdown",
   "metadata": {},
   "source": [
    "Student Name: Zhengyuan Ding\n",
    "\n",
    "Student Netid: zd415\n",
    "***"
   ]
  },
  {
   "cell_type": "markdown",
   "metadata": {},
   "source": [
    "### Part 1: Naive Bayes (5 Points)"
   ]
  },
  {
   "cell_type": "markdown",
   "metadata": {},
   "source": [
    "1\\. From your reading you know that the naive Bayes classifier works by calculating the conditional probabilities of each feature, $e_i$, occuring with each class $c$ and treating them independently. This results in the probability of a certain class occuring given a set of features, or a piece of evidence, $E$, as\n",
    "\n",
    "$$P(c \\mid E) = \\frac{p(e_1 \\mid c) \\cdot p(e_2 \\mid c) \\cdot \\cdot \\cdot p(e_k \\mid c) \\cdot p(c)}{p(E)}.$$\n",
    "\n",
    "The conditional probability of each piece of evidence occuring with a given class is given by\n",
    "\n",
    "$$P(e_i \\mid c) = \\frac{\\text{count}(e_i, c)}{\\text{count}(c)}.$$\n",
    "\n",
    "In the above equation $\\text{count}(e_i, c)$ is the number of documents in a given class that contain feature $e_i$ and $\\text{count}(c)$ is the number of documents that belong to class $c$. \n",
    "\n",
    "A common variation of the above is to use Laplace (sometimes called +1) smoothing. Recall the use of Laplace smoothing introduced toward the end of Chapter 3 in the section Probability Estimation. This is done in sklearn by setting `alpha=1` in the `BernoulliNB()` function (this is also the default behavior). The result of Laplace smoothing will slightly change the conditional probabilities,\n",
    "\n",
    "$$P(e_i \\mid c) = \\frac{\\text{count}(e_i, c) + 1}{\\text{count}(c) + 2}.$$\n",
    "\n",
    "In no more than **one paragraph**, describe why this is useful, and use the bias-variance tradeoff to justify its use. Try to think of a case when not using Laplace smoothing would result in \"bad\" models. Try to give an example. Be precise."
   ]
  },
  {
   "cell_type": "markdown",
   "metadata": {},
   "source": [
    "Answer here!\n",
    "\n",
    "Laplace smoothing is useful when the sample size is small to alleviate overfitting problem. For instance, class c only has 10 samples and the appearance of feature $e_i$ is zero(count($e_i,c$)=0) in this class. Then without Laplace smoothing, we would estimate $P(e_i|c)=0$.This means that we will always classify data points with feature $e_i$ with zero probability to be class c, resulting in a \"bad\" model. Laplace smoothing in this case reflects some uncertainty by adding a constant to both the denominator and the numerator. In terms of bias-variance tradeoff, it helps reduce the variance in the overfitting case."
   ]
  },
  {
   "cell_type": "markdown",
   "metadata": {},
   "source": [
    "### Part 2: Text classification for sentiment analysis (20 Points)\n",
    "For this part of the assignment, we are going to use a data set of movie ratings from IMDB.com. The data consists of the text of a movie review and a target variable which tells us whether the reviewer had a positive feeling towards the movie (equivalent to rating the movie between 7 and 10) or a negative feeling (rating the movie between 1 and 4). Neutral reactions are not included in the data.\n",
    "\n",
    "The data are located in \"`data/imdb.csv`\". The first column is the review text; the second is the text label 'P' for positive or 'N' for negative."
   ]
  },
  {
   "cell_type": "markdown",
   "metadata": {},
   "source": [
    "1 (1 Point) \\. Load the data into a pandas `DataFrame()`."
   ]
  },
  {
   "cell_type": "code",
   "execution_count": 1,
   "metadata": {},
   "outputs": [],
   "source": [
    "import pandas as pd\n",
    "data = pd.read_csv('data/imdb.csv',quotechar=\"'\", escapechar=\"\\\\\")"
   ]
  },
  {
   "cell_type": "code",
   "execution_count": 2,
   "metadata": {},
   "outputs": [
    {
     "data": {
      "text/html": [
       "<div>\n",
       "<style scoped>\n",
       "    .dataframe tbody tr th:only-of-type {\n",
       "        vertical-align: middle;\n",
       "    }\n",
       "\n",
       "    .dataframe tbody tr th {\n",
       "        vertical-align: top;\n",
       "    }\n",
       "\n",
       "    .dataframe thead th {\n",
       "        text-align: right;\n",
       "    }\n",
       "</style>\n",
       "<table border=\"1\" class=\"dataframe\">\n",
       "  <thead>\n",
       "    <tr style=\"text-align: right;\">\n",
       "      <th></th>\n",
       "      <th>Text</th>\n",
       "      <th>Class</th>\n",
       "    </tr>\n",
       "  </thead>\n",
       "  <tbody>\n",
       "    <tr>\n",
       "      <th>0</th>\n",
       "      <td>One of the first of the best musicals Anchors ...</td>\n",
       "      <td>P</td>\n",
       "    </tr>\n",
       "    <tr>\n",
       "      <th>1</th>\n",
       "      <td>Visually disjointed and full of itself the dir...</td>\n",
       "      <td>N</td>\n",
       "    </tr>\n",
       "    <tr>\n",
       "      <th>2</th>\n",
       "      <td>These type of movies about young teenagers str...</td>\n",
       "      <td>P</td>\n",
       "    </tr>\n",
       "    <tr>\n",
       "      <th>3</th>\n",
       "      <td>I would rather of had my eyes gouged out with ...</td>\n",
       "      <td>N</td>\n",
       "    </tr>\n",
       "    <tr>\n",
       "      <th>4</th>\n",
       "      <td>The title says it all. Tail Gunner Joe was a t...</td>\n",
       "      <td>N</td>\n",
       "    </tr>\n",
       "  </tbody>\n",
       "</table>\n",
       "</div>"
      ],
      "text/plain": [
       "                                                Text Class\n",
       "0  One of the first of the best musicals Anchors ...     P\n",
       "1  Visually disjointed and full of itself the dir...     N\n",
       "2  These type of movies about young teenagers str...     P\n",
       "3  I would rather of had my eyes gouged out with ...     N\n",
       "4  The title says it all. Tail Gunner Joe was a t...     N"
      ]
     },
     "execution_count": 2,
     "metadata": {},
     "output_type": "execute_result"
    }
   ],
   "source": [
    "data.head()"
   ]
  },
  {
   "cell_type": "markdown",
   "metadata": {},
   "source": [
    "2 (1 Point)\\. Code the target variable to be numeric: use the value `1` to represent 'P' and `0` to represent 'N'."
   ]
  },
  {
   "cell_type": "code",
   "execution_count": 3,
   "metadata": {},
   "outputs": [],
   "source": [
    "# Code here\n",
    "data['Class'] = pd.Series(data['Class'] == 'P', dtype=int)"
   ]
  },
  {
   "cell_type": "code",
   "execution_count": 4,
   "metadata": {},
   "outputs": [
    {
     "data": {
      "text/html": [
       "<div>\n",
       "<style scoped>\n",
       "    .dataframe tbody tr th:only-of-type {\n",
       "        vertical-align: middle;\n",
       "    }\n",
       "\n",
       "    .dataframe tbody tr th {\n",
       "        vertical-align: top;\n",
       "    }\n",
       "\n",
       "    .dataframe thead th {\n",
       "        text-align: right;\n",
       "    }\n",
       "</style>\n",
       "<table border=\"1\" class=\"dataframe\">\n",
       "  <thead>\n",
       "    <tr style=\"text-align: right;\">\n",
       "      <th></th>\n",
       "      <th>Text</th>\n",
       "      <th>Class</th>\n",
       "    </tr>\n",
       "  </thead>\n",
       "  <tbody>\n",
       "    <tr>\n",
       "      <th>0</th>\n",
       "      <td>One of the first of the best musicals Anchors ...</td>\n",
       "      <td>1</td>\n",
       "    </tr>\n",
       "    <tr>\n",
       "      <th>1</th>\n",
       "      <td>Visually disjointed and full of itself the dir...</td>\n",
       "      <td>0</td>\n",
       "    </tr>\n",
       "    <tr>\n",
       "      <th>2</th>\n",
       "      <td>These type of movies about young teenagers str...</td>\n",
       "      <td>1</td>\n",
       "    </tr>\n",
       "    <tr>\n",
       "      <th>3</th>\n",
       "      <td>I would rather of had my eyes gouged out with ...</td>\n",
       "      <td>0</td>\n",
       "    </tr>\n",
       "    <tr>\n",
       "      <th>4</th>\n",
       "      <td>The title says it all. Tail Gunner Joe was a t...</td>\n",
       "      <td>0</td>\n",
       "    </tr>\n",
       "  </tbody>\n",
       "</table>\n",
       "</div>"
      ],
      "text/plain": [
       "                                                Text  Class\n",
       "0  One of the first of the best musicals Anchors ...      1\n",
       "1  Visually disjointed and full of itself the dir...      0\n",
       "2  These type of movies about young teenagers str...      1\n",
       "3  I would rather of had my eyes gouged out with ...      0\n",
       "4  The title says it all. Tail Gunner Joe was a t...      0"
      ]
     },
     "execution_count": 4,
     "metadata": {},
     "output_type": "execute_result"
    }
   ],
   "source": [
    "data.head()"
   ]
  },
  {
   "cell_type": "markdown",
   "metadata": {},
   "source": [
    "3 (2 Points)\\. Put all of the text into a data frame called `X` and the target variable in a data frame called `Y`. Make a train/test split where you give 75% of the data to training. Feel free to use any function from sklearn."
   ]
  },
  {
   "cell_type": "code",
   "execution_count": 5,
   "metadata": {},
   "outputs": [
    {
     "name": "stderr",
     "output_type": "stream",
     "text": [
      "/Users/carold/anaconda3/lib/python3.6/site-packages/sklearn/model_selection/_split.py:2026: FutureWarning: From version 0.21, test_size will always complement train_size unless both are specified.\n",
      "  FutureWarning)\n"
     ]
    }
   ],
   "source": [
    "#Code here\n",
    "from sklearn.model_selection import train_test_split\n",
    "X = data['Text']\n",
    "Y = data['Class']\n",
    "\n",
    "X_train, X_test, Y_train, Y_test = train_test_split(X, Y, train_size=.75)"
   ]
  },
  {
   "cell_type": "markdown",
   "metadata": {},
   "source": [
    "4 (5 Points)\\. Create a binary `CountVectorizer()` and a binary `TfidfVectorizer()`. Use the original single words as well as bigrams (in the same model). Also, use an \"english\" stop word list. Fit these to the training data to extract a vocabulary and then transform both the train and test data. Hint - look at the API documentation for both vectorizers to see what we mean by \"binary.\""
   ]
  },
  {
   "cell_type": "code",
   "execution_count": 6,
   "metadata": {},
   "outputs": [],
   "source": [
    "from sklearn.feature_extraction.text import CountVectorizer\n",
    "from sklearn.feature_extraction.text import TfidfVectorizer\n",
    "\n",
    "count_vectorizer = CountVectorizer(stop_words = 'english', ngram_range=(1,2),binary=True)\n",
    "count_vectorizer.fit(X_train)\n",
    "X_train1 = count_vectorizer.transform(X_train)\n",
    "X_test1 = count_vectorizer.transform(X_test)\n",
    "\n",
    "tfidf_vectorizer = TfidfVectorizer(stop_words = 'english', ngram_range=(1,2),binary=True)\n",
    "tfidf_vectorizer.fit(X_train)\n",
    "X_train2 = tfidf_vectorizer.transform(X_train)\n",
    "X_test2 = tfidf_vectorizer.transform(X_test)"
   ]
  },
  {
   "cell_type": "markdown",
   "metadata": {},
   "source": [
    "5 (6 Points)\\. Create `LogisticRegression()` and `BernoulliNB()` models. For all settings, keep the default values. In a single plot, show the AUC curve for both classifiers and both vectorizers defined above. In the legend, include the area under the ROC curve (AUC). Do not forget to label your axes. Your final plot will be a single window with 4 curves.\n",
    "\n",
    "Which model do you think does a better job? Why? Explain in no more than a paragraph.\n",
    "\n",
    "Extra credit (2 points): Do any of the options perform identically? If so, can you explain why?"
   ]
  },
  {
   "cell_type": "code",
   "execution_count": 7,
   "metadata": {},
   "outputs": [
    {
     "data": {
      "image/png": "[encoded data removed]",
      "text/plain": [
       "<Figure size 864x864 with 1 Axes>"
      ]
     },
     "metadata": {},
     "output_type": "display_data"
    }
   ],
   "source": [
    "# Run this so your plots show properly\n",
    "import matplotlib.pyplot as plt\n",
    "%matplotlib inline\n",
    "plt.rcParams['figure.figsize'] = 12, 12\n",
    "\n",
    "from sklearn.linear_model import LogisticRegression\n",
    "from sklearn.naive_bayes import BernoulliNB\n",
    "from sklearn import metrics\n",
    "\n",
    "# Code here\n",
    "clf_logit1 = LogisticRegression()\n",
    "clf_logit1.fit(X_train1, Y_train)\n",
    "clf_logit2 = LogisticRegression()\n",
    "clf_logit2.fit(X_train2, Y_train)\n",
    "\n",
    "clf_bern1 = BernoulliNB()\n",
    "clf_bern1.fit(X_train1, Y_train)\n",
    "clf_bern2 = BernoulliNB()\n",
    "clf_bern2.fit(X_train2, Y_train)\n",
    "\n",
    "fpr_logit1, tpr_logit1, thresholds_logit1 = metrics.roc_curve(Y_test, clf_logit1.predict_proba(X_test1)[:,1])\n",
    "auc_logit1 = metrics.auc(fpr_logit1, tpr_logit1)\n",
    "fpr_logit2, tpr_logit2, thresholds_logit2 = metrics.roc_curve(Y_test, clf_logit2.predict_proba(X_test2)[:,1])\n",
    "auc_logit2 = metrics.auc(fpr_logit2, tpr_logit2)\n",
    "\n",
    "fpr_bern1, tpr_bern1, thresholds_bern1 = metrics.roc_curve(Y_test, clf_bern1.predict_proba(X_test1)[:,1])\n",
    "auc_bern1 = metrics.auc(fpr_bern1, tpr_bern1)\n",
    "fpr_bern2, tpr_bern2, thresholds_bern2 = metrics.roc_curve(Y_test, clf_bern2.predict_proba(X_test2)[:,1])\n",
    "auc_bern2 = metrics.auc(fpr_bern2, tpr_bern2)\n",
    "\n",
    "plt.title('ROC Curve')\n",
    "plt.plot(fpr_logit1, tpr_logit1, label = 'Logit Count AUC = %0.3f' % auc_logit1)\n",
    "plt.plot(fpr_logit2, tpr_logit2, label = 'Logit TFIDF AUC = %0.3f' % auc_logit2)\n",
    "plt.plot(fpr_bern1, tpr_bern1, label = 'NB Count AUC = %0.3f' % auc_bern1)\n",
    "plt.plot(fpr_bern2, tpr_bern2, label = 'NB TFIDF AUC = %0.3f' % auc_bern2)\n",
    "\n",
    "plt.legend(loc = 'lower right')\n",
    "plt.plot([0, 1], [0, 1],'r--')\n",
    "plt.xlim([0, 1])\n",
    "plt.ylim([0, 1])\n",
    "plt.ylabel('True Positive Rate')\n",
    "plt.xlabel('False Positive Rate')\n",
    "plt.show()"
   ]
  },
  {
   "cell_type": "markdown",
   "metadata": {},
   "source": [
    "Logistic regressions have a better performance than Bernoulli Naive Bayes models since it has a higher AUC score. The reason may be that the features are not really conditionally independently here, which breaks the assumption of the Bernoulli NB model. \n",
    "\n",
    "Extra Credit:\n",
    "\n",
    "In NB model the Count and TFIDF vectorizer perform identically. This is because of the formula of NB model:\n",
    "$$P(c \\mid E) = \\frac{p(e_1 \\mid c) \\cdot p(e_2 \\mid c) \\cdot \\cdot \\cdot p(e_k \\mid c) \\cdot p(c)}{p(E)}.$$\n",
    ", where $P(e_i \\mid c) = \\frac{\\text{count}(e_i, c)}{\\text{count}(c)}.=TF(e_i,c)$ and $P(E) = p(e_1|c_0)p(e_2|c_0)\\cdots p(e_i|c_0)p(c_0)+ p(e_1|c_1)p(e_2|c_1)\\cdots p(e_i|c_1)p(c_1)+\\cdots$\n",
    "\n",
    "According to the formula of TFIDF ($TFIDF = \\frac{TF}{IDF}$), the IDF part is reduced since it appears in both the denominater and numerator of the NB formula. Thus the TFIDF is basically same as the count method."
   ]
  },
  {
   "cell_type": "markdown",
   "metadata": {
    "collapsed": true
   },
   "source": [
    "5\\. Use the model from question 4 that you think did the best job and predict the rating of the test data. Find 5 examples were labeled positive, but were incorrectly classified as negative. Print out the reviews below and include an explanation as to why you think it may have been incorrectly classified. You can pick any 5. They do not have to be at random."
   ]
  },
  {
   "cell_type": "code",
   "execution_count": 8,
   "metadata": {},
   "outputs": [
    {
     "name": "stdout",
     "output_type": "stream",
     "text": [
      "review idx 0: \n",
      "its movies like these that make you wish that you never picked on the nerd growing up in school. If you liked this movie then I would suggest you watch Valentine. I just found out today that the guy who played Marty(Simon) killed himself a little after the movie was released which is a shame since he did a good job. I wonder if its because of the part he played in the movie. It starts out when Carol tricks him into going into the girls restroom to act like they were about to do it. When he was changing in the showers Carols popular friends snuck into the bathroom and got everything ready camera electric shock pole. When Marty open the curtain butt naked he realized that he was tricked. He tries to cover the shower up but the kids open it grab Marty and starts being mean to him while the camera is rolling. They picked him up dunked his head in the toliet while it was being flushed and they electricuted him(slightly). When the kids are in detention given by the coach 2 of the boys give Marty a joint that will make him throw up. Skip breaks one of the glass windows in the gym using a brick to get the teacher to excuse him. While Marty is puking in the bathroom Skip sneaks into the Science Lab and mixes some stuff that looks like cocaine but not sure what it was. The lab blows up disfiguring him badly. 5 years later the kids who tormented him that day got invitations for a 5 year school reunion at the old school which was burn that day it exploded. One by one the people get killed off. I dont understand how the girl who drowned really drowned. she could have gotten back up after Marty left. She almost got out the first time.\n",
      "\n",
      "review idx 17: \n",
      "Im a HUGE fan of the twin sisters. Although this was one of their not soo good movies. Im not saying its bad I cant say its bad but this whole popular and not popular thingy isnt good. Although I give this movie a 4.\n",
      "\n",
      "review idx 26: \n",
      "I think a great many viewers missed entirely the fact that this is obviously a parody of western films. This is not a bad movie - it is a clever tongue in cheek take on westerns. I dont believe this film was taking itself seriously for a moment. What makes this film even more unique is the fact it is centered around 4 strong beautiful women two of which are black one Asian and a Mexican/Hispanic character. These arent your usual western women--theyre tough--they can draw fast and shoot straight. Theyre so tough even the bartender is shaking when he pours their whiskey. The plot which moves this story along is typical of westerns--in the vein of you shot my brother--so Im gonna get you! Only in this western a womans sister has been shot and shes out for vengeance on the gang who did it. So she goes and rounds up her old cronies from her bank robbing days. One of them Maria is not really all that interested in avenging Rachels sister but she is motived by the fact theres gold and jewelry hidden in the town where theyre headed. There are a couple of scenes that dont quite make sense not that they interfere that much they can be ignored but I wondered why they were there. So the film could use a little tightening but over all this is a well made film that has failed to find an audience that recognized what it is. My only disappointment was that the only lesbian in the film is a villain--of the heroines one is obviously straight the others sexual orientations are never disclosed. 7 Stars\n",
      "\n",
      "review idx 28: \n",
      "I saw this movie on TV late one night years ago but it was a disturbing experience that has stayed with me to this day. The premise may seem a bit unoriginal - due to an earthquake a hidden underground store of a toxic nerve agent in the hills above a small town is breached and a microscopic amount of the substance finds its way into their food supply. The inhabitants of the town begin to lose their ability to exercise restraint over every whim and base desire that floats through all of our minds from time to time and that normally we know we simply must not act upon. The pace of the movie is slow but for me that only added to the creeping unease as the townspeoples behaviour slowly starts to unravel. There are several surreal and very unsettling scenes that have remained etched in my memory all this time. It raises interesting questions about what we could all be capable of if we gave in to our most feral instincts. Did I enjoy it? Im not sure enjoy is the right word. Did it make me think? Definitely. Im still thinking about it. Scary stuff.\n",
      "\n",
      "review idx 45: \n",
      "Sandwiched in between San Francisco and Captains Courageous two of Spencer Tracys greatest parts is this very curious film about war and the effects it has on some people. They Gave Him A Gun stars Spencer Tracy and Franchot Tone in the only film they ever made together and Gladys George as the woman who loves them both. Tracy and Tone are a couple of World War I draftees Tone is a weak character who almost goes over the hill in boot camp but Tracy stops him. Tracy is still playing the lovable blowhard younger Wallace Beery type that MGM envisioned for him when they signed him away from Fox.  Over at the front Tone gets an opportunity and takes it when during a fight he manages to get to a church tower that peers down on a German machine gun nest. Hes learned to shoot by now and he does a Sergeant York. But Alvin C. York was never changed by the war the way Tone has. Wounded in the fight Tone convalesces at a hospital with Gladys George looking out for him. Tracy goes AWOL himself to visit his pal and he and George get something going. Later on when Tracy is reported missing in action Tone and George marry. Tracys brokenhearted when he comes back and learns of the marriage but takes sit in stride.  The rest of the film is dealing with Tone applying the the wartime skills hes learned to the gangster trade. Hes a hit-man now and George doesnt really know what he does for a living. I think you can figure the rest out. The part of the film that gave me some trouble is that I cant believe Gladys George couldnt figure it out. Shes a street smart girl her part is very much like the one she played in The Roaring Twenties opposite James Cagney. Speaking of The Roaring Twenties Humphrey Bogarts character development there is similar to Tones although he was not the central character of the movie. In fact there are elements of They Gave Him A Gun that are to be found in Taxi Driver and in Clint Eastwoods classic The Unforgiven.  The World War I battle sequences are very well staged by director Woody Van Dyke. For some reason Leonard Maltin panned this film I think its a lot better than he gave it credit.\n",
      "\n"
     ]
    }
   ],
   "source": [
    "# Code here to display 5 incorrect reviews.\n",
    "clf = LogisticRegression()\n",
    "clf.fit(X_train1, Y_train)\n",
    "preds = clf.predict(X_test1)\n",
    "count = 0\n",
    "\n",
    "for i in range(len(preds)):\n",
    "    if (count >= 5): break\n",
    "    if (Y_test.iloc[i] == 1) and not (preds[i] == 1):\n",
    "        count += 1\n",
    "        print('review idx '+ str(i)+': ')\n",
    "        print(X_test.iloc[i]+'\\n')"
   ]
  },
  {
   "cell_type": "markdown",
   "metadata": {},
   "source": [
    "Explanation for the 5 reviews chosen here!\n",
    "\n",
    "These reviews include many negative words like \"bad\", \"disturbing\" etc. There are many turns in the meaning in these reviews, from negative to positive sentiments. The model may be influnced by these words and turnings and makes a wrong classification. Also much of the content is neutral, for example, a description of the plot. Thus, there is no strong evidence of the reviews being positive or negative."
   ]
  },
  {
   "cell_type": "code",
   "execution_count": null,
   "metadata": {},
   "outputs": [],
   "source": []
  }
 ],
 "metadata": {
  "anaconda-cloud": {},
  "kernelspec": {
   "display_name": "Python 3",
   "language": "python",
   "name": "python3"
  },
  "language_info": {
   "codemirror_mode": {
    "name": "ipython",
    "version": 3
   },
   "file_extension": ".py",
   "mimetype": "text/x-python",
   "name": "python",
   "nbconvert_exporter": "python",
   "pygments_lexer": "ipython3",
   "version": "3.6.5"
  }
 },
 "nbformat": 4,
 "nbformat_minor": 1
}
